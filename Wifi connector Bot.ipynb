{
 "cells": [
  {
   "cell_type": "code",
   "execution_count": 1,
   "id": "9b6387bc",
   "metadata": {},
   "outputs": [],
   "source": [
    "import os\n",
    "import sys"
   ]
  },
  {
   "cell_type": "code",
   "execution_count": 3,
   "id": "b3cd5b26",
   "metadata": {},
   "outputs": [
    {
     "name": "stdout",
     "output_type": "stream",
     "text": [
      "\n",
      "Profiles on interface Wi-Fi:\n",
      "\n",
      "Group policy profiles (read only)\n",
      "---------------------------------\n",
      "    <None>\n",
      "\n",
      "User profiles\n",
      "-------------\n",
      "    All User Profile     : Teds..Buro\n",
      "    All User Profile     : Redmi\n",
      "    All User Profile     : realme X2\n",
      "    All User Profile     : realme X\n",
      "\n",
      "\n"
     ]
    }
   ],
   "source": [
    "##check saved profiles\n",
    "saved_profiles=os.popen('Netsh wlan show profiles').read()\n",
    "print(saved_profiles) "
   ]
  },
  {
   "cell_type": "code",
   "execution_count": 4,
   "id": "efd2c025",
   "metadata": {},
   "outputs": [
    {
     "name": "stdout",
     "output_type": "stream",
     "text": [
      " \n",
      "Interface name : Wi-Fi \n",
      "There are 7 networks currently visible. \n",
      "\n",
      "SSID 1 : Teds..Buro\n",
      "    Network type            : Infrastructure\n",
      "    Authentication          : WPA2-Personal\n",
      "    Encryption              : CCMP \n",
      "\n",
      "SSID 2 : fiber-2\n",
      "    Network type            : Infrastructure\n",
      "    Authentication          : WPA2-Personal\n",
      "    Encryption              : CCMP \n",
      "\n",
      "SSID 3 : \n",
      "    Network type            : Infrastructure\n",
      "    Authentication          : WPA2-Personal\n",
      "    Encryption              : CCMP \n",
      "\n",
      "SSID 4 : demon\n",
      "    Network type            : Infrastructure\n",
      "    Authentication          : WPA2-Personal\n",
      "    Encryption              : CCMP \n",
      "\n",
      "SSID 5 : NETWORK1\n",
      "    Network type            : Infrastructure\n",
      "    Authentication          : WPA2-Personal\n",
      "    Encryption              : CCMP \n",
      "\n",
      "SSID 6 : fiber-1\n",
      "    Network type            : Infrastructure\n",
      "    Authentication          : WPA2-Personal\n",
      "    Encryption              : CCMP \n",
      "\n",
      "SSID 7 : AMIT-5G\n",
      "    Network type            : Infrastructure\n",
      "    Authentication          : WPA2-Personal\n",
      "    Encryption              : CCMP \n",
      "\n",
      "\n"
     ]
    }
   ],
   "source": [
    "###checking available profiles\n",
    "available_profiles = os.popen('netsh wlan show networks').read()\n",
    "print(available_profiles)\n"
   ]
  },
  {
   "cell_type": "code",
   "execution_count": 5,
   "id": "f3a9a0c7",
   "metadata": {},
   "outputs": [
    {
     "name": "stdout",
     "output_type": "stream",
     "text": [
      "Enter the preferred SSID for your connection : Teds..Buro\n"
     ]
    }
   ],
   "source": [
    "preferred_ssid=input('Enter the preferred SSID for your connection : ')\n",
    "\n"
   ]
  },
  {
   "cell_type": "code",
   "execution_count": 6,
   "id": "a23b6f01",
   "metadata": {},
   "outputs": [
    {
     "name": "stdout",
     "output_type": "stream",
     "text": [
      "Disconnection request was completed successfully for interface \"Wi-Fi\".\n",
      "\n"
     ]
    }
   ],
   "source": [
    "response = os.popen(\"netsh wlan disconnect\").read()\n",
    "print(response)\n",
    "\n"
   ]
  },
  {
   "cell_type": "code",
   "execution_count": 7,
   "id": "fc50e25b",
   "metadata": {},
   "outputs": [
    {
     "name": "stdout",
     "output_type": "stream",
     "text": [
      "Profile for Teds..Buro is saved in system\n"
     ]
    }
   ],
   "source": [
    "if preferred_ssid not in saved_profiles:\n",
    "    print(\"Profile for \"+preferred_ssid+\" is not saved in system\")\n",
    "    print(\"Sorry but can't establish the connection\")\n",
    "    sys.exit()\n",
    "else:\n",
    "    print(\"Profile for \"+preferred_ssid+\" is saved in system\")\n"
   ]
  },
  {
   "cell_type": "code",
   "execution_count": 8,
   "id": "cc6e4237",
   "metadata": {},
   "outputs": [
    {
     "name": "stdout",
     "output_type": "stream",
     "text": [
      "Found\n",
      "--------Connecting----------\n",
      "Connection request was completed successfully.\n",
      "\n"
     ]
    }
   ],
   "source": [
    "while True:   \n",
    "    avail = os.popen('netsh wlan show networks').read()# To get the available profiles\n",
    "    #sleep(3)\n",
    "    if preferred_ssid in avail: # Checks if the preferred connection is available or not\n",
    "        print('Found')\n",
    "        break\n",
    "print('--------Connecting----------')    \n",
    "resp = os.popen('netsh wlan connect name='+'\"'+preferred_ssid+'\"').read()\n",
    "print(resp)       "
   ]
  },
  {
   "cell_type": "code",
   "execution_count": null,
   "id": "1ec8fe46",
   "metadata": {},
   "outputs": [],
   "source": []
  }
 ],
 "metadata": {
  "kernelspec": {
   "display_name": "Python 3",
   "language": "python",
   "name": "python3"
  },
  "language_info": {
   "codemirror_mode": {
    "name": "ipython",
    "version": 3
   },
   "file_extension": ".py",
   "mimetype": "text/x-python",
   "name": "python",
   "nbconvert_exporter": "python",
   "pygments_lexer": "ipython3",
   "version": "3.8.8"
  }
 },
 "nbformat": 4,
 "nbformat_minor": 5
}
